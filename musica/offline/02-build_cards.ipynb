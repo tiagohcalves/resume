{
 "cells": [
  {
   "cell_type": "code",
   "execution_count": 64,
   "metadata": {},
   "outputs": [],
   "source": [
    "import pandas as pd\n",
    "import nltk\n",
    "import string\n",
    "import json\n",
    "\n",
    "from nltk import tokenize\n",
    "from matplotlib import pyplot as plt"
   ]
  },
  {
   "cell_type": "code",
   "execution_count": 2,
   "metadata": {},
   "outputs": [],
   "source": [
    "lyrics_df = pd.read_csv(\"data/data_raw.csv\", sep=\";\")"
   ]
  },
  {
   "cell_type": "code",
   "execution_count": 3,
   "metadata": {},
   "outputs": [
    {
     "data": {
      "text/html": [
       "<div>\n",
       "<style scoped>\n",
       "    .dataframe tbody tr th:only-of-type {\n",
       "        vertical-align: middle;\n",
       "    }\n",
       "\n",
       "    .dataframe tbody tr th {\n",
       "        vertical-align: top;\n",
       "    }\n",
       "\n",
       "    .dataframe thead th {\n",
       "        text-align: right;\n",
       "    }\n",
       "</style>\n",
       "<table border=\"1\" class=\"dataframe\">\n",
       "  <thead>\n",
       "    <tr style=\"text-align: right;\">\n",
       "      <th></th>\n",
       "      <th>Unnamed: 0</th>\n",
       "      <th>artista</th>\n",
       "      <th>musica</th>\n",
       "      <th>letra</th>\n",
       "      <th>selecionado</th>\n",
       "    </tr>\n",
       "  </thead>\n",
       "  <tbody>\n",
       "    <tr>\n",
       "      <th>0</th>\n",
       "      <td>0</td>\n",
       "      <td>Roberto Carlos</td>\n",
       "      <td>Nossa Senhora</td>\n",
       "      <td>Cubra-me com seu manto de amor\\nGuarda-me na p...</td>\n",
       "      <td>1</td>\n",
       "    </tr>\n",
       "    <tr>\n",
       "      <th>1</th>\n",
       "      <td>1</td>\n",
       "      <td>Roberto Carlos</td>\n",
       "      <td>Amor Sem Limite</td>\n",
       "      <td>Quando a gente ama alguém de verdade\\nEsse amo...</td>\n",
       "      <td>1</td>\n",
       "    </tr>\n",
       "    <tr>\n",
       "      <th>2</th>\n",
       "      <td>2</td>\n",
       "      <td>Roberto Carlos</td>\n",
       "      <td>Como É Grande O Meu Amor Por Você</td>\n",
       "      <td>Eu tenho tanto pra lhe falar\\nMas com palavras...</td>\n",
       "      <td>1</td>\n",
       "    </tr>\n",
       "    <tr>\n",
       "      <th>3</th>\n",
       "      <td>3</td>\n",
       "      <td>Roberto Carlos</td>\n",
       "      <td>Amigo</td>\n",
       "      <td>Você meu amigo de fé, meu irmão camarada\\nAmig...</td>\n",
       "      <td>1</td>\n",
       "    </tr>\n",
       "    <tr>\n",
       "      <th>4</th>\n",
       "      <td>4</td>\n",
       "      <td>Roberto Carlos</td>\n",
       "      <td>Emoções</td>\n",
       "      <td>Quando eu estou aqui\\nEu vivo esse momento lin...</td>\n",
       "      <td>1</td>\n",
       "    </tr>\n",
       "  </tbody>\n",
       "</table>\n",
       "</div>"
      ],
      "text/plain": [
       "   Unnamed: 0         artista                             musica  \\\n",
       "0           0  Roberto Carlos                      Nossa Senhora   \n",
       "1           1  Roberto Carlos                    Amor Sem Limite   \n",
       "2           2  Roberto Carlos  Como É Grande O Meu Amor Por Você   \n",
       "3           3  Roberto Carlos                              Amigo   \n",
       "4           4  Roberto Carlos                            Emoções   \n",
       "\n",
       "                                               letra  selecionado  \n",
       "0  Cubra-me com seu manto de amor\\nGuarda-me na p...            1  \n",
       "1  Quando a gente ama alguém de verdade\\nEsse amo...            1  \n",
       "2  Eu tenho tanto pra lhe falar\\nMas com palavras...            1  \n",
       "3  Você meu amigo de fé, meu irmão camarada\\nAmig...            1  \n",
       "4  Quando eu estou aqui\\nEu vivo esse momento lin...            1  "
      ]
     },
     "execution_count": 3,
     "metadata": {},
     "output_type": "execute_result"
    }
   ],
   "source": [
    "lyrics_df.head()"
   ]
  },
  {
   "cell_type": "markdown",
   "metadata": {},
   "source": [
    "---"
   ]
  },
  {
   "cell_type": "markdown",
   "metadata": {},
   "source": [
    "## Palavra"
   ]
  },
  {
   "cell_type": "code",
   "execution_count": 7,
   "metadata": {},
   "outputs": [],
   "source": [
    "full_text = \" \".join(lyrics_df[\"letra\"].values)"
   ]
  },
  {
   "cell_type": "code",
   "execution_count": 19,
   "metadata": {},
   "outputs": [
    {
     "name": "stderr",
     "output_type": "stream",
     "text": [
      "[nltk_data] Downloading package punkt to /home/tiago/nltk_data...\n",
      "[nltk_data]   Package punkt is already up-to-date!\n",
      "[nltk_data] Downloading package stopwords to /home/tiago/nltk_data...\n",
      "[nltk_data]   Unzipping corpora/stopwords.zip.\n"
     ]
    },
    {
     "data": {
      "text/plain": [
       "True"
      ]
     },
     "execution_count": 19,
     "metadata": {},
     "output_type": "execute_result"
    }
   ],
   "source": [
    "nltk.download('punkt')"
   ]
  },
  {
   "cell_type": "code",
   "execution_count": 15,
   "metadata": {},
   "outputs": [],
   "source": [
    "word_tokenize = tokenize.word_tokenize(full_text.lower(), language='portuguese')    "
   ]
  },
  {
   "cell_type": "code",
   "execution_count": 29,
   "metadata": {},
   "outputs": [],
   "source": [
    "word_tokenize = [w for w in word_tokenize if w not in list(string.punctuation)]"
   ]
  },
  {
   "cell_type": "code",
   "execution_count": 30,
   "metadata": {},
   "outputs": [],
   "source": [
    "words = pd.Series(word_tokenize)"
   ]
  },
  {
   "cell_type": "code",
   "execution_count": 34,
   "metadata": {},
   "outputs": [],
   "source": [
    "word_count = words.value_counts()"
   ]
  },
  {
   "cell_type": "code",
   "execution_count": 37,
   "metadata": {},
   "outputs": [
    {
     "data": {
      "text/plain": [
       "12654"
      ]
     },
     "execution_count": 37,
     "metadata": {},
     "output_type": "execute_result"
    }
   ],
   "source": [
    "word_count.shape[0]"
   ]
  },
  {
   "cell_type": "code",
   "execution_count": 47,
   "metadata": {},
   "outputs": [
    {
     "data": {
      "text/plain": [
       "820"
      ]
     },
     "execution_count": 47,
     "metadata": {},
     "output_type": "execute_result"
    }
   ],
   "source": [
    "word_count[word_count >= 30].shape[0]"
   ]
  },
  {
   "cell_type": "code",
   "execution_count": 52,
   "metadata": {},
   "outputs": [],
   "source": [
    "word_count = word_count[word_count >= 30].reset_index()"
   ]
  },
  {
   "cell_type": "code",
   "execution_count": 55,
   "metadata": {},
   "outputs": [],
   "source": [
    "word_count[\"word_len\"] = word_count[\"index\"].apply(len)"
   ]
  },
  {
   "cell_type": "code",
   "execution_count": 58,
   "metadata": {},
   "outputs": [],
   "source": [
    "word_count = word_count[word_count[\"word_len\"] != 1]"
   ]
  },
  {
   "cell_type": "code",
   "execution_count": 62,
   "metadata": {},
   "outputs": [],
   "source": [
    "palavra_cards = [dict(palavra=w) for w in word_count[\"index\"]]"
   ]
  },
  {
   "cell_type": "code",
   "execution_count": 66,
   "metadata": {},
   "outputs": [],
   "source": [
    "palavra_json = json.dumps(palavra_cards)"
   ]
  },
  {
   "cell_type": "code",
   "execution_count": 71,
   "metadata": {},
   "outputs": [],
   "source": [
    "palavra_json = 'var palavra = ' + palavra_json + \";\""
   ]
  },
  {
   "cell_type": "markdown",
   "metadata": {},
   "source": [
    "---"
   ]
  },
  {
   "cell_type": "markdown",
   "metadata": {},
   "source": [
    "## Complete"
   ]
  },
  {
   "cell_type": "code",
   "execution_count": 75,
   "metadata": {},
   "outputs": [],
   "source": [
    "lyrics_paragraphs = lyrics_df[\"letra\"].apply(lambda x: x.split(\"\\n\\n\"))"
   ]
  },
  {
   "cell_type": "code",
   "execution_count": 91,
   "metadata": {},
   "outputs": [
    {
     "data": {
      "text/plain": [
       "'Cubra-me com seu manto de amor\\nGuarda-me na paz desse olhar\\nCura-me as feridas e a dor me faz suportar\\nQue as pedras do meu caminho\\nMeus pés suportem pisar\\nMesmo ferido de espinhos me ajude a passar'"
      ]
     },
     "execution_count": 91,
     "metadata": {},
     "output_type": "execute_result"
    }
   ],
   "source": [
    "lyrics_paragraphs[0][0]"
   ]
  },
  {
   "cell_type": "code",
   "execution_count": 108,
   "metadata": {},
   "outputs": [],
   "source": [
    "complete_list = []\n",
    "for lyric in lyrics_paragraphs:\n",
    "    complete_list += [\n",
    "        dict(inicio=\"\\n\".join(p.split(\"\\n\")[:-1]), resposta=p.split(\"\\n\")[-1])\n",
    "        for p in set(lyric)\n",
    "        if len(p.split(\"\\n\")) > 1\n",
    "    ]"
   ]
  },
  {
   "cell_type": "code",
   "execution_count": 111,
   "metadata": {},
   "outputs": [],
   "source": [
    "complete_json = json.dumps(complete_list)\n",
    "complete_json = \"var complete = \" + complete_json + \";\""
   ]
  },
  {
   "cell_type": "markdown",
   "metadata": {},
   "source": [
    "---"
   ]
  },
  {
   "cell_type": "markdown",
   "metadata": {},
   "source": [
    "## Adivinha"
   ]
  },
  {
   "cell_type": "code",
   "execution_count": 128,
   "metadata": {},
   "outputs": [],
   "source": [
    "artist_list = lyrics_df.apply(lambda x: x[\"artista\"] + \" - \" + x[\"musica\"], axis=1).values"
   ]
  },
  {
   "cell_type": "code",
   "execution_count": 114,
   "metadata": {},
   "outputs": [
    {
     "data": {
      "text/plain": [
       "'Cubra-me com seu manto de amor\\nGuarda-me na paz desse olhar\\nCura-me as feridas e a dor me faz suportar\\nQue as pedras do meu caminho\\nMeus pés suportem pisar\\nMesmo ferido de espinhos me ajude a passar'"
      ]
     },
     "execution_count": 114,
     "metadata": {},
     "output_type": "execute_result"
    }
   ],
   "source": [
    "lyrics_paragraphs[0][0]"
   ]
  },
  {
   "cell_type": "code",
   "execution_count": 129,
   "metadata": {},
   "outputs": [],
   "source": [
    "advinha_list = []\n",
    "for i, lyric in enumerate(lyrics_paragraphs):\n",
    "    advinha_list += [\n",
    "        dict(verse=\"\\n\".join(p.split(\"\\n\")[0:2]), artist=artist_list[i])\n",
    "        for p in set(lyric)\n",
    "        if len(p.split(\"\\n\")) > 1\n",
    "    ]"
   ]
  },
  {
   "cell_type": "code",
   "execution_count": 131,
   "metadata": {},
   "outputs": [],
   "source": [
    "advinha_json = json.dumps(advinha_list)\n",
    "advinha_json = \"var adivinha = \" + advinha_json + \";\""
   ]
  },
  {
   "cell_type": "markdown",
   "metadata": {},
   "source": [
    "---"
   ]
  },
  {
   "cell_type": "markdown",
   "metadata": {},
   "source": [
    "## Mimica"
   ]
  },
  {
   "cell_type": "code",
   "execution_count": 139,
   "metadata": {},
   "outputs": [],
   "source": [
    "mimica_list = lyrics_df.apply(lambda x: dict(title=x[\"musica\"], artist=x[\"artista\"]), axis=1).values.tolist()"
   ]
  },
  {
   "cell_type": "code",
   "execution_count": 140,
   "metadata": {},
   "outputs": [],
   "source": [
    "mimica_json = json.dumps(mimica_list)\n",
    "mimica_json = \"var mimica = \" + mimica_json + \";\""
   ]
  },
  {
   "cell_type": "markdown",
   "metadata": {},
   "source": [
    "---"
   ]
  },
  {
   "cell_type": "markdown",
   "metadata": {},
   "source": [
    "## Join all cards"
   ]
  },
  {
   "cell_type": "code",
   "execution_count": 142,
   "metadata": {},
   "outputs": [],
   "source": [
    "json_data = \"\\n\".join([palavra_json, complete_json, advinha_json, mimica_json])"
   ]
  },
  {
   "cell_type": "code",
   "execution_count": 144,
   "metadata": {},
   "outputs": [],
   "source": [
    "with open(\"data/data.js\", \"w\") as outfile:\n",
    "    outfile.write(json_data)"
   ]
  }
 ],
 "metadata": {
  "kernelspec": {
   "display_name": "Python 3",
   "language": "python",
   "name": "python3"
  },
  "language_info": {
   "codemirror_mode": {
    "name": "ipython",
    "version": 3
   },
   "file_extension": ".py",
   "mimetype": "text/x-python",
   "name": "python",
   "nbconvert_exporter": "python",
   "pygments_lexer": "ipython3",
   "version": "3.7.3"
  }
 },
 "nbformat": 4,
 "nbformat_minor": 4
}
