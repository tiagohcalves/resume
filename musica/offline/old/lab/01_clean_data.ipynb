{
 "cells": [
  {
   "cell_type": "code",
   "execution_count": 10,
   "metadata": {},
   "outputs": [],
   "source": [
    "import pandas as pd\n",
    "import json"
   ]
  },
  {
   "cell_type": "code",
   "execution_count": 14,
   "metadata": {},
   "outputs": [],
   "source": [
    "with open(\"data/data.json\", \"r\") as infile:\n",
    "    data = json.load(infile)"
   ]
  },
  {
   "cell_type": "code",
   "execution_count": 34,
   "metadata": {},
   "outputs": [],
   "source": [
    "df_palavra = pd.DataFrame.from_dict(data[\"palavra\"])\n",
    "df_complete = pd.DataFrame.from_dict(data[\"complete\"])\n",
    "df_adivinha = pd.DataFrame.from_dict(data[\"adivinha\"])\n",
    "df_mimica = pd.DataFrame.from_dict(data[\"mimica\"])"
   ]
  },
  {
   "cell_type": "code",
   "execution_count": 36,
   "metadata": {},
   "outputs": [
    {
     "data": {
      "text/html": [
       "<div>\n",
       "<style scoped>\n",
       "    .dataframe tbody tr th:only-of-type {\n",
       "        vertical-align: middle;\n",
       "    }\n",
       "\n",
       "    .dataframe tbody tr th {\n",
       "        vertical-align: top;\n",
       "    }\n",
       "\n",
       "    .dataframe thead th {\n",
       "        text-align: right;\n",
       "    }\n",
       "</style>\n",
       "<table border=\"1\" class=\"dataframe\">\n",
       "  <thead>\n",
       "    <tr style=\"text-align: right;\">\n",
       "      <th></th>\n",
       "      <th>palavra</th>\n",
       "    </tr>\n",
       "  </thead>\n",
       "  <tbody>\n",
       "    <tr>\n",
       "      <th>0</th>\n",
       "      <td></td>\n",
       "    </tr>\n",
       "    <tr>\n",
       "      <th>1</th>\n",
       "      <td>A</td>\n",
       "    </tr>\n",
       "    <tr>\n",
       "      <th>2</th>\n",
       "      <td>abaixa</td>\n",
       "    </tr>\n",
       "    <tr>\n",
       "      <th>3</th>\n",
       "      <td>ABANDONE</td>\n",
       "    </tr>\n",
       "    <tr>\n",
       "      <th>4</th>\n",
       "      <td>abismo</td>\n",
       "    </tr>\n",
       "  </tbody>\n",
       "</table>\n",
       "</div>"
      ],
      "text/plain": [
       "    palavra\n",
       "0          \n",
       "1         A\n",
       "2    abaixa\n",
       "3  ABANDONE\n",
       "4    abismo"
      ]
     },
     "execution_count": 36,
     "metadata": {},
     "output_type": "execute_result"
    }
   ],
   "source": [
    "df_palavra = df_palavra[[\"palavra\"]]\n",
    "df_palavra.head()"
   ]
  },
  {
   "cell_type": "code",
   "execution_count": 37,
   "metadata": {},
   "outputs": [
    {
     "data": {
      "text/html": [
       "<div>\n",
       "<style scoped>\n",
       "    .dataframe tbody tr th:only-of-type {\n",
       "        vertical-align: middle;\n",
       "    }\n",
       "\n",
       "    .dataframe tbody tr th {\n",
       "        vertical-align: top;\n",
       "    }\n",
       "\n",
       "    .dataframe thead th {\n",
       "        text-align: right;\n",
       "    }\n",
       "</style>\n",
       "<table border=\"1\" class=\"dataframe\">\n",
       "  <thead>\n",
       "    <tr style=\"text-align: right;\">\n",
       "      <th></th>\n",
       "      <th>id</th>\n",
       "      <th>inicio</th>\n",
       "      <th>resposta</th>\n",
       "    </tr>\n",
       "  </thead>\n",
       "  <tbody>\n",
       "    <tr>\n",
       "      <th>0</th>\n",
       "      <td>1</td>\n",
       "      <td>Veja o sol\\n Dessa manhã tão cinza\\n A tempest...</td>\n",
       "      <td>Castanhos</td>\n",
       "    </tr>\n",
       "    <tr>\n",
       "      <th>1</th>\n",
       "      <td>2</td>\n",
       "      <td>Meu corpo viraria sol\\n Minha mente viraria ar...</td>\n",
       "      <td>Chove, chove</td>\n",
       "    </tr>\n",
       "    <tr>\n",
       "      <th>2</th>\n",
       "      <td>3</td>\n",
       "      <td>Tira essa roupa pra que eu possa ver\\n Que não...</td>\n",
       "      <td>O mal vive num lar perfeito e sem infiltração</td>\n",
       "    </tr>\n",
       "    <tr>\n",
       "      <th>3</th>\n",
       "      <td>4</td>\n",
       "      <td>Estátuas e cofres e paredes pintadas\\n Ninguém...</td>\n",
       "      <td>Nada é fácil de entender</td>\n",
       "    </tr>\n",
       "    <tr>\n",
       "      <th>4</th>\n",
       "      <td>5</td>\n",
       "      <td>Não mandarei\\n Cinzas de rosas\\n Nem penso em ...</td>\n",
       "      <td>Os nossos segredos</td>\n",
       "    </tr>\n",
       "  </tbody>\n",
       "</table>\n",
       "</div>"
      ],
      "text/plain": [
       "  id                                             inicio  \\\n",
       "0  1  Veja o sol\\n Dessa manhã tão cinza\\n A tempest...   \n",
       "1  2  Meu corpo viraria sol\\n Minha mente viraria ar...   \n",
       "2  3  Tira essa roupa pra que eu possa ver\\n Que não...   \n",
       "3  4  Estátuas e cofres e paredes pintadas\\n Ninguém...   \n",
       "4  5  Não mandarei\\n Cinzas de rosas\\n Nem penso em ...   \n",
       "\n",
       "                                         resposta  \n",
       "0                                       Castanhos  \n",
       "1                                    Chove, chove  \n",
       "2   O mal vive num lar perfeito e sem infiltração  \n",
       "3                        Nada é fácil de entender  \n",
       "4                              Os nossos segredos  "
      ]
     },
     "execution_count": 37,
     "metadata": {},
     "output_type": "execute_result"
    }
   ],
   "source": [
    "df_complete = df_complete[[\"id\", \"inicio\", \"resposta\"]]\n",
    "df_complete.head()"
   ]
  },
  {
   "cell_type": "code",
   "execution_count": 38,
   "metadata": {},
   "outputs": [
    {
     "data": {
      "text/html": [
       "<div>\n",
       "<style scoped>\n",
       "    .dataframe tbody tr th:only-of-type {\n",
       "        vertical-align: middle;\n",
       "    }\n",
       "\n",
       "    .dataframe tbody tr th {\n",
       "        vertical-align: top;\n",
       "    }\n",
       "\n",
       "    .dataframe thead th {\n",
       "        text-align: right;\n",
       "    }\n",
       "</style>\n",
       "<table border=\"1\" class=\"dataframe\">\n",
       "  <thead>\n",
       "    <tr style=\"text-align: right;\">\n",
       "      <th></th>\n",
       "      <th>id</th>\n",
       "      <th>verse</th>\n",
       "      <th>artist</th>\n",
       "    </tr>\n",
       "  </thead>\n",
       "  <tbody>\n",
       "    <tr>\n",
       "      <th>0</th>\n",
       "      <td>1</td>\n",
       "      <td>E selvagem, selvagem\\n Selvagem!</td>\n",
       "      <td>Legião Urbana-Tempo Perdido</td>\n",
       "    </tr>\n",
       "    <tr>\n",
       "      <th>1</th>\n",
       "      <td>2</td>\n",
       "      <td>Se o meu corpo virasse sol\\n Se a minha mente...</td>\n",
       "      <td>Capital Inicial-Primeiros Erros</td>\n",
       "    </tr>\n",
       "    <tr>\n",
       "      <th>2</th>\n",
       "      <td>3</td>\n",
       "      <td>Então diga\\n Que não volta mais pra minha vida</td>\n",
       "      <td>Fresno-Diga, parte 2</td>\n",
       "    </tr>\n",
       "    <tr>\n",
       "      <th>3</th>\n",
       "      <td>4</td>\n",
       "      <td>Meu filho vai ter nome de santo\\n Quero o nome...</td>\n",
       "      <td>Legião Urbana-Pais e Filhos</td>\n",
       "    </tr>\n",
       "    <tr>\n",
       "      <th>4</th>\n",
       "      <td>5</td>\n",
       "      <td>Perdendo o meu tempo\\n A noite inteira</td>\n",
       "      <td>Capital Inicial-À Sua Maneira</td>\n",
       "    </tr>\n",
       "  </tbody>\n",
       "</table>\n",
       "</div>"
      ],
      "text/plain": [
       "  id                                              verse  \\\n",
       "0  1                   E selvagem, selvagem\\n Selvagem!   \n",
       "1  2   Se o meu corpo virasse sol\\n Se a minha mente...   \n",
       "2  3     Então diga\\n Que não volta mais pra minha vida   \n",
       "3  4  Meu filho vai ter nome de santo\\n Quero o nome...   \n",
       "4  5             Perdendo o meu tempo\\n A noite inteira   \n",
       "\n",
       "                            artist  \n",
       "0      Legião Urbana-Tempo Perdido  \n",
       "1  Capital Inicial-Primeiros Erros  \n",
       "2             Fresno-Diga, parte 2  \n",
       "3      Legião Urbana-Pais e Filhos  \n",
       "4    Capital Inicial-À Sua Maneira  "
      ]
     },
     "execution_count": 38,
     "metadata": {},
     "output_type": "execute_result"
    }
   ],
   "source": [
    "df_adivinha = df_adivinha[[\"id\", \"verse\", \"artist\"]]\n",
    "df_adivinha.head()"
   ]
  },
  {
   "cell_type": "code",
   "execution_count": 39,
   "metadata": {},
   "outputs": [
    {
     "data": {
      "text/html": [
       "<div>\n",
       "<style scoped>\n",
       "    .dataframe tbody tr th:only-of-type {\n",
       "        vertical-align: middle;\n",
       "    }\n",
       "\n",
       "    .dataframe tbody tr th {\n",
       "        vertical-align: top;\n",
       "    }\n",
       "\n",
       "    .dataframe thead th {\n",
       "        text-align: right;\n",
       "    }\n",
       "</style>\n",
       "<table border=\"1\" class=\"dataframe\">\n",
       "  <thead>\n",
       "    <tr style=\"text-align: right;\">\n",
       "      <th></th>\n",
       "      <th>id</th>\n",
       "      <th>title</th>\n",
       "      <th>artist</th>\n",
       "    </tr>\n",
       "  </thead>\n",
       "  <tbody>\n",
       "    <tr>\n",
       "      <th>0</th>\n",
       "      <td>1</td>\n",
       "      <td>Tempo Perdido</td>\n",
       "      <td>Legião Urbana</td>\n",
       "    </tr>\n",
       "    <tr>\n",
       "      <th>1</th>\n",
       "      <td>2</td>\n",
       "      <td>Primeiros Erros</td>\n",
       "      <td>Capital Inicial</td>\n",
       "    </tr>\n",
       "    <tr>\n",
       "      <th>2</th>\n",
       "      <td>3</td>\n",
       "      <td>Diga, parte 2</td>\n",
       "      <td>Fresno</td>\n",
       "    </tr>\n",
       "    <tr>\n",
       "      <th>3</th>\n",
       "      <td>4</td>\n",
       "      <td>Pais e Filhos</td>\n",
       "      <td>Legião Urbana</td>\n",
       "    </tr>\n",
       "    <tr>\n",
       "      <th>4</th>\n",
       "      <td>5</td>\n",
       "      <td>À Sua Maneira</td>\n",
       "      <td>Capital Inicial</td>\n",
       "    </tr>\n",
       "  </tbody>\n",
       "</table>\n",
       "</div>"
      ],
      "text/plain": [
       "  id            title           artist\n",
       "0  1    Tempo Perdido    Legião Urbana\n",
       "1  2  Primeiros Erros  Capital Inicial\n",
       "2  3    Diga, parte 2           Fresno\n",
       "3  4    Pais e Filhos    Legião Urbana\n",
       "4  5    À Sua Maneira  Capital Inicial"
      ]
     },
     "execution_count": 39,
     "metadata": {},
     "output_type": "execute_result"
    }
   ],
   "source": [
    "df_mimica = df_mimica[[\"id\", \"title\", \"artist\"]]\n",
    "df_mimica.head()"
   ]
  }
 ],
 "metadata": {
  "kernelspec": {
   "display_name": "Python 3",
   "language": "python",
   "name": "python3"
  },
  "language_info": {
   "codemirror_mode": {
    "name": "ipython",
    "version": 3
   },
   "file_extension": ".py",
   "mimetype": "text/x-python",
   "name": "python",
   "nbconvert_exporter": "python",
   "pygments_lexer": "ipython3",
   "version": "3.7.0"
  }
 },
 "nbformat": 4,
 "nbformat_minor": 2
}
